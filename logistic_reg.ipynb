{
  "nbformat": 4,
  "nbformat_minor": 0,
  "metadata": {
    "colab": {
      "provenance": [],
      "authorship_tag": "ABX9TyN7AI8rzdUxoj5mhkT3itqP",
      "include_colab_link": true
    },
    "kernelspec": {
      "name": "python3",
      "display_name": "Python 3"
    },
    "language_info": {
      "name": "python"
    }
  },
  "cells": [
    {
      "cell_type": "markdown",
      "metadata": {
        "id": "view-in-github",
        "colab_type": "text"
      },
      "source": [
        "<a href=\"https://colab.research.google.com/github/22bsm056/introduction-to-Ai-ML/blob/main/logistic_reg.ipynb\" target=\"_parent\"><img src=\"https://colab.research.google.com/assets/colab-badge.svg\" alt=\"Open In Colab\"/></a>"
      ]
    },
    {
      "cell_type": "code",
      "execution_count": null,
      "metadata": {
        "id": "G7L3UkbO5Kcc"
      },
      "outputs": [],
      "source": []
    },
    {
      "cell_type": "markdown",
      "source": [
        "1. Binomial Logistic regression:\n",
        "\n",
        "In binomial logistic regression, the target variable can only have two possible values such as \"0\" or \"1\", \"pass\" or \"fail\". The sigmoid function is used for prediction.\n",
        "\n",
        "We will be using sckit-learn library for this and shows how to use the breast cancer dataset to implement a Logistic Regression model for classification.\n"
      ],
      "metadata": {
        "id": "MQKPiz615YcL"
      }
    },
    {
      "cell_type": "code",
      "source": [
        "from sklearn.datasets import load_breast_cancer\n",
        "from sklearn.linear_model import LogisticRegression\n",
        "from sklearn.model_selection import train_test_split\n",
        "from sklearn.metrics import accuracy_score"
      ],
      "metadata": {
        "id": "Dllmj9-E5aeg"
      },
      "execution_count": 1,
      "outputs": []
    },
    {
      "cell_type": "code",
      "source": [
        "X,Y = load_breast_cancer(return_X_y=True)\n",
        "X_train,X_test,Y_train,Y_test =train_test_split(X,Y,test_size=0.2,random_state=26)\n",
        "clf =LogisticRegression(max_iter=10000,random_state=0)\n",
        "clf.fit(X_train,Y_train)\n",
        "acc=accuracy_score(Y_test,clf.predict(X_test))*100\n",
        "print(acc)"
      ],
      "metadata": {
        "colab": {
          "base_uri": "https://localhost:8080/"
        },
        "id": "m52d-zMV6UV1",
        "outputId": "0fed017c-2c21-46e5-f467-dabf6f780f47"
      },
      "execution_count": 5,
      "outputs": [
        {
          "output_type": "stream",
          "name": "stdout",
          "text": [
            "97.36842105263158\n"
          ]
        }
      ]
    },
    {
      "cell_type": "markdown",
      "source": [
        "This code uses logistic regression to classify whether a sample from the breast cancer dataset is malignant or benign.\n"
      ],
      "metadata": {
        "id": "jlRdejbT8hi4"
      }
    },
    {
      "cell_type": "code",
      "source": [],
      "metadata": {
        "id": "IeSx0PM48jXH"
      },
      "execution_count": null,
      "outputs": []
    }
  ]
}